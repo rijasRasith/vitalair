{
  "cells": [
    {
      "cell_type": "code",
      "source": [
        "import pandas as pd\n",
        "\n",
        "# Load the combined AQI forecast file\n",
        "df = pd.read_csv(\"combined_AQI_forecast.csv\")\n",
        "\n",
        "# Check that the column exists\n",
        "if 'AQI_Forecast' not in df.columns:\n",
        "    raise ValueError(\"The file does not contain an 'AQI_Forecast' column.\")\n",
        "\n",
        "# Display descriptive statistics for the AQI_Forecast column\n",
        "aqi_stats = df['AQI_Forecast'].describe()\n",
        "print(\"AQI_Forecast statistics:\")\n",
        "print(aqi_stats)\n",
        "\n",
        "# Based on the distribution, let's choose a proper threshold.\n",
        "# For example, using the 75th percentile might be reasonable if we consider the upper quartile as high risk.\n",
        "reference_aqi = df['AQI_Forecast'].quantile(0.75)\n",
        "print(\"Selected reference_aqi threshold (75th percentile):\", reference_aqi)\n"
      ],
      "metadata": {
        "colab": {
          "base_uri": "https://localhost:8080/"
        },
        "id": "G_rPDqvzFSug",
        "outputId": "bbff7e85-f734-4675-ae14-f171895a3098"
      },
      "execution_count": 2,
      "outputs": [
        {
          "output_type": "stream",
          "name": "stdout",
          "text": [
            "AQI_Forecast statistics:\n",
            "count    336.000000\n",
            "mean      26.692124\n",
            "std       10.039737\n",
            "min        4.276920\n",
            "25%       19.551462\n",
            "50%       26.480328\n",
            "75%       32.327350\n",
            "max       45.845084\n",
            "Name: AQI_Forecast, dtype: float64\n",
            "Selected reference_aqi threshold (75th percentile): 32.32734960961196\n"
          ]
        }
      ]
    },
    {
      "cell_type": "code",
      "source": [
        "import os\n",
        "import pandas as pd\n",
        "\n",
        "# List of file names to process\n",
        "file_names = [\n",
        "    \"AQI_forecast_Vellore.csv\",\n",
        "    \"AQI_forecast_Velachery.csv\",\n",
        "    \"AQI_forecast_Tirupur.csv\",\n",
        "    \"AQI_forecast_salem.csv\",\n",
        "    \"AQI_forecast_Royapuram.csv\",\n",
        "    \"AQI_forecast_Ramanathapuram.csv\",\n",
        "    \"AQI_forecast_Perungudi.csv\",\n",
        "    \"AQI_forecast_Manali.csv\",\n",
        "    \"AQI_forecast_Ooty.csv\",\n",
        "    \"AQI_forecast_Kodungaiyur.csv\",\n",
        "    \"AQI_forecast_Alandur.csv\",\n",
        "    \"AQI_forecast_Crescent_chengalpattu.csv\"\n",
        "]\n",
        "\n",
        "# Define input and output directories\n",
        "input_dir = \"/content/\"\n",
        "output_dir = \"/content/results/\"\n",
        "\n",
        "# Create the output directory if it does not exist\n",
        "os.makedirs(output_dir, exist_ok=True)\n",
        "\n",
        "# Iterate over each file\n",
        "for file_name in file_names:\n",
        "    file_path = os.path.join(input_dir, file_name)\n",
        "\n",
        "    # Read the CSV file into a DataFrame\n",
        "    try:\n",
        "        df = pd.read_csv(file_path)\n",
        "    except Exception as e:\n",
        "        print(f\"Error reading {file_name}: {e}\")\n",
        "        continue\n",
        "\n",
        "    # Calculate the HRI: ratio of AQI to the reference value\n",
        "    # Make sure the AQI column exists\n",
        "    if 'AQI_Forecast' in df.columns:\n",
        "        df['HRI'] = df['AQI_Forecast'] / reference_aqi\n",
        "    else:\n",
        "        print(f\"'AQI_Forecast' column not found in {file_name}. Skipping.\")\n",
        "        continue\n",
        "\n",
        "    # Construct the output file name by replacing '_aqi.csv' with '_HRI.csv'\n",
        "    output_file_name = file_name.replace(\"AQI_\", \"HRI_\")\n",
        "    output_file_path = os.path.join(output_dir, output_file_name)\n",
        "\n",
        "    # Save the updated DataFrame to the output file\n",
        "    try:\n",
        "        df.to_csv(output_file_path, index=False)\n",
        "        print(f\"Processed and saved: {output_file_path}\")\n",
        "    except Exception as e:\n",
        "        print(f\"Error saving {output_file_name}: {e}\")\n"
      ],
      "metadata": {
        "colab": {
          "base_uri": "https://localhost:8080/"
        },
        "id": "TP-NtAkB7T3Z",
        "outputId": "428993f5-af50-45a1-99e4-293514cf929d"
      },
      "execution_count": 3,
      "outputs": [
        {
          "output_type": "stream",
          "name": "stdout",
          "text": [
            "Processed and saved: /content/results/HRI_forecast_Vellore.csv\n",
            "Processed and saved: /content/results/HRI_forecast_Velachery.csv\n",
            "Processed and saved: /content/results/HRI_forecast_Tirupur.csv\n",
            "Processed and saved: /content/results/HRI_forecast_salem.csv\n",
            "Processed and saved: /content/results/HRI_forecast_Royapuram.csv\n",
            "Processed and saved: /content/results/HRI_forecast_Ramanathapuram.csv\n",
            "Processed and saved: /content/results/HRI_forecast_Perungudi.csv\n",
            "Processed and saved: /content/results/HRI_forecast_Manali.csv\n",
            "Processed and saved: /content/results/HRI_forecast_Ooty.csv\n",
            "Processed and saved: /content/results/HRI_forecast_Kodungaiyur.csv\n",
            "Processed and saved: /content/results/HRI_forecast_Alandur.csv\n",
            "Processed and saved: /content/results/HRI_forecast_Crescent_chengalpattu.csv\n"
          ]
        }
      ]
    },
    {
      "cell_type": "code",
      "source": [
        "import os\n",
        "import pandas as pd\n",
        "\n",
        "# List of file names to combine\n",
        "file_names = [\n",
        "    \"HRI_forecast_Vellore.csv\",\n",
        "    \"HRI_forecast_Velachery.csv\",\n",
        "    \"HRI_forecast_Tirupur.csv\",\n",
        "    \"HRI_forecast_salem.csv\",\n",
        "    \"HRI_forecast_Royapuram.csv\",\n",
        "    \"HRI_forecast_Ramanathapuram.csv\",\n",
        "    \"HRI_forecast_Perungudi.csv\",\n",
        "    \"HRI_forecast_Manali.csv\",\n",
        "    \"HRI_forecast_Ooty.csv\",\n",
        "    \"HRI_forecast_Kodungaiyur.csv\",\n",
        "    \"HRI_forecast_Alandur.csv\",\n",
        "    \"HRI_forecast_Crescent_chengalpattu.csv\"\n",
        "]\n",
        "\n",
        "# List to hold DataFrames from each file\n",
        "dfs = []\n",
        "\n",
        "# Loop over each file, load it, and add a station name column\n",
        "for file in file_names:\n",
        "    file_path = os.path.join('/content', file)\n",
        "    df = pd.read_csv(file_path)\n",
        "\n",
        "    # Extract the station name using slicing\n",
        "    prefix = \"HRI_forecast_\"\n",
        "    suffix = \".csv\"\n",
        "    if file.startswith(prefix) and file.endswith(suffix):\n",
        "        station_name = file[len(prefix):-len(suffix)]\n",
        "    else:\n",
        "        station_name = file  # fallback if file naming doesn't match\n",
        "\n",
        "    df['Location'] = station_name\n",
        "    dfs.append(df)\n",
        "\n",
        "# Concatenate all DataFrames into a single DataFrame\n",
        "combined_df = pd.concat(dfs, ignore_index=True)\n",
        "\n",
        "# Save the combined DataFrame to a new CSV file in the /content/ directory\n",
        "combined_csv_path = '/content/combined_HRI_forecast.csv'\n",
        "combined_df.to_csv(combined_csv_path, index=False)\n",
        "\n",
        "print(f\"Combined CSV file created successfully at {combined_csv_path}\")\n"
      ],
      "metadata": {
        "colab": {
          "base_uri": "https://localhost:8080/"
        },
        "id": "7RFHQK_b82G0",
        "outputId": "715bb428-3265-497a-9994-56cbf4bb9fe1"
      },
      "execution_count": 4,
      "outputs": [
        {
          "output_type": "stream",
          "name": "stdout",
          "text": [
            "Combined CSV file created successfully at /content/combined_HRI_forecast.csv\n"
          ]
        }
      ]
    },
    {
      "cell_type": "code",
      "source": [
        "df = pd.read_csv(\"/content/combined_HRI_forecast.csv\")"
      ],
      "metadata": {
        "id": "IqPZTKIn87R7"
      },
      "execution_count": 5,
      "outputs": []
    },
    {
      "cell_type": "code",
      "source": [
        "df['Location'].value_counts()"
      ],
      "metadata": {
        "colab": {
          "base_uri": "https://localhost:8080/",
          "height": 491
        },
        "id": "luJko6MvBWn6",
        "outputId": "8b6bd4a6-0933-4e01-e2b5-6197972ac726"
      },
      "execution_count": 6,
      "outputs": [
        {
          "output_type": "execute_result",
          "data": {
            "text/plain": [
              "Location\n",
              "Vellore                  28\n",
              "Velachery                28\n",
              "Tirupur                  28\n",
              "salem                    28\n",
              "Royapuram                28\n",
              "Ramanathapuram           28\n",
              "Perungudi                28\n",
              "Manali                   28\n",
              "Ooty                     28\n",
              "Kodungaiyur              28\n",
              "Alandur                  28\n",
              "Crescent_chengalpattu    28\n",
              "Name: count, dtype: int64"
            ],
            "text/html": [
              "<div>\n",
              "<style scoped>\n",
              "    .dataframe tbody tr th:only-of-type {\n",
              "        vertical-align: middle;\n",
              "    }\n",
              "\n",
              "    .dataframe tbody tr th {\n",
              "        vertical-align: top;\n",
              "    }\n",
              "\n",
              "    .dataframe thead th {\n",
              "        text-align: right;\n",
              "    }\n",
              "</style>\n",
              "<table border=\"1\" class=\"dataframe\">\n",
              "  <thead>\n",
              "    <tr style=\"text-align: right;\">\n",
              "      <th></th>\n",
              "      <th>count</th>\n",
              "    </tr>\n",
              "    <tr>\n",
              "      <th>Location</th>\n",
              "      <th></th>\n",
              "    </tr>\n",
              "  </thead>\n",
              "  <tbody>\n",
              "    <tr>\n",
              "      <th>Vellore</th>\n",
              "      <td>28</td>\n",
              "    </tr>\n",
              "    <tr>\n",
              "      <th>Velachery</th>\n",
              "      <td>28</td>\n",
              "    </tr>\n",
              "    <tr>\n",
              "      <th>Tirupur</th>\n",
              "      <td>28</td>\n",
              "    </tr>\n",
              "    <tr>\n",
              "      <th>salem</th>\n",
              "      <td>28</td>\n",
              "    </tr>\n",
              "    <tr>\n",
              "      <th>Royapuram</th>\n",
              "      <td>28</td>\n",
              "    </tr>\n",
              "    <tr>\n",
              "      <th>Ramanathapuram</th>\n",
              "      <td>28</td>\n",
              "    </tr>\n",
              "    <tr>\n",
              "      <th>Perungudi</th>\n",
              "      <td>28</td>\n",
              "    </tr>\n",
              "    <tr>\n",
              "      <th>Manali</th>\n",
              "      <td>28</td>\n",
              "    </tr>\n",
              "    <tr>\n",
              "      <th>Ooty</th>\n",
              "      <td>28</td>\n",
              "    </tr>\n",
              "    <tr>\n",
              "      <th>Kodungaiyur</th>\n",
              "      <td>28</td>\n",
              "    </tr>\n",
              "    <tr>\n",
              "      <th>Alandur</th>\n",
              "      <td>28</td>\n",
              "    </tr>\n",
              "    <tr>\n",
              "      <th>Crescent_chengalpattu</th>\n",
              "      <td>28</td>\n",
              "    </tr>\n",
              "  </tbody>\n",
              "</table>\n",
              "</div><br><label><b>dtype:</b> int64</label>"
            ]
          },
          "metadata": {},
          "execution_count": 6
        }
      ]
    },
    {
      "cell_type": "code",
      "source": [],
      "metadata": {
        "id": "tYmgOrEyBb1K"
      },
      "execution_count": null,
      "outputs": []
    }
  ],
  "metadata": {
    "colab": {
      "provenance": [],
      "gpuType": "T4"
    },
    "kernelspec": {
      "display_name": "Python 3",
      "name": "python3"
    },
    "language_info": {
      "codemirror_mode": {
        "name": "ipython",
        "version": 3
      },
      "file_extension": ".py",
      "mimetype": "text/x-python",
      "name": "python",
      "nbconvert_exporter": "python",
      "pygments_lexer": "ipython3",
      "version": "3.12.7"
    },
    "accelerator": "GPU"
  },
  "nbformat": 4,
  "nbformat_minor": 0
}